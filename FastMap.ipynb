{
 "cells": [
  {
   "cell_type": "code",
   "execution_count": 129,
   "metadata": {
    "colab": {
     "base_uri": "https://localhost:8080/",
     "height": 34
    },
    "colab_type": "code",
    "executionInfo": {
     "elapsed": 381,
     "status": "ok",
     "timestamp": 1583903214033,
     "user": {
      "displayName": "shagun gupta",
      "photoUrl": "https://lh3.googleusercontent.com/a-/AOh14Gi00i7-GRr42uUUPObpB_JPCTxu9SSDZYJeG5g5=s64",
      "userId": "18231311259389961451"
     },
     "user_tz": 420
    },
    "id": "Adkp7tI7KiXS",
    "outputId": "e8191dbc-b781-435b-bcd0-7de1fbbdea38"
   },
   "outputs": [
    {
     "name": "stdout",
     "output_type": "stream",
     "text": [
      "Drive already mounted at /content/drive; to attempt to forcibly remount, call drive.mount(\"/content/drive\", force_remount=True).\n"
     ]
    }
   ],
   "source": [
    "from google.colab import drive\n",
    "import pandas as pd\n",
    "drive.mount('/content/drive')\n",
    "default_path = '/content/drive/My Drive/INF ML 552/HW3 - PCA, FM/'\n",
    "data = pd.read_csv(default_path + 'fastmap-data.txt', header=None, sep='\\t')\n",
    "# data = data.rename(columns={0:'X', 1:'Y'})\n"
   ]
  },
  {
   "cell_type": "code",
   "execution_count": 0,
   "metadata": {
    "colab": {},
    "colab_type": "code",
    "id": "nig8fXfYQfvy"
   },
   "outputs": [],
   "source": [
    "data"
   ]
  },
  {
   "cell_type": "code",
   "execution_count": 130,
   "metadata": {
    "colab": {
     "base_uri": "https://localhost:8080/",
     "height": 34
    },
    "colab_type": "code",
    "executionInfo": {
     "elapsed": 399,
     "status": "ok",
     "timestamp": 1583903217691,
     "user": {
      "displayName": "shagun gupta",
      "photoUrl": "https://lh3.googleusercontent.com/a-/AOh14Gi00i7-GRr42uUUPObpB_JPCTxu9SSDZYJeG5g5=s64",
      "userId": "18231311259389961451"
     },
     "user_tz": 420
    },
    "id": "91iymuw3QY2V",
    "outputId": "ef6dd53d-8713-4488-d918-f6d818af2e91"
   },
   "outputs": [
    {
     "data": {
      "text/plain": [
       "(7, 5)"
      ]
     },
     "execution_count": 130,
     "metadata": {
      "tags": []
     },
     "output_type": "execute_result"
    }
   ],
   "source": [
    "import random\n",
    "def get_farthest_point(data, x, pivot, old_i):\n",
    "  \n",
    "  m = -1\n",
    "  m_ind = -1\n",
    "  for j in range(1,11):\n",
    "    if pivot != j:\n",
    "      com = get_distance(pivot,j,data,x)\n",
    "      if m< com:\n",
    "        m = com\n",
    "        m_ind = j\n",
    "  if m_ind == old_i:\n",
    "    return pivot,old_i\n",
    "  else:\n",
    "    return get_farthest_point(data, x, m_ind, pivot)\n",
    "\n",
    "def farthest(data,x):\n",
    "  i = random.randint(1,11)\n",
    "  m = -1\n",
    "  m_ind = -1\n",
    "  for j in range(1,11):\n",
    "    if i != j:\n",
    "      com = get_distance(i,j,data,x)\n",
    "      if m< com:\n",
    "        m = com\n",
    "        m_ind = j\n",
    "  return get_farthest_point(data, x, m_ind, i)\n",
    "\n",
    "farthest(data,[[3.875, 3.0, 0, 1.0416666666666667, 2.4583333333333335, 9.5, 2.4583333333333335, 1.5, 2.4583333333333335, 12]])"
   ]
  },
  {
   "cell_type": "code",
   "execution_count": 0,
   "metadata": {
    "colab": {},
    "colab_type": "code",
    "id": "a8gX5gEwN45t"
   },
   "outputs": [],
   "source": [
    "def get_distance(i,j,data,x):\n",
    "  if i == j: return 0\n",
    "  if(data.index[(data[0] == i) & (data[1] == j)].to_list() != []):\n",
    "    val = data[2][(data.index[(data[0] == i) & (data[1] == j)]).to_list()[0]]\n",
    "  else:\n",
    "   val = data[2][(data.index[(data[0] == j) & (data[1] == i)]).to_list()[0]]\n",
    "  # print(i,j,val)\n",
    "  val = val * val\n",
    "  sec = 0\n",
    "  print(x,i,j)\n",
    "  for k in range(len(x)):\n",
    "    sec = sec + math.pow((x[k][i-1] - x[k][j-1]),2)\n",
    "  val = math.sqrt(val - sec)\n",
    "  return val"
   ]
  },
  {
   "cell_type": "code",
   "execution_count": 0,
   "metadata": {
    "colab": {},
    "colab_type": "code",
    "id": "XO3fZXnVLnAx"
   },
   "outputs": [],
   "source": [
    "import math\n",
    "def fastmap(x, count, k, data):\n",
    "  if count == k:\n",
    "    return x\n",
    "  r = []\n",
    "  #find farthest point\n",
    "  farthest_point_a, farthest_point_b = farthest(data,x)\n",
    "  for i in range(1,11):\n",
    "    if i != farthest_point_a and i != farthest_point_b:\n",
    "      r.append((math.pow(get_distance(farthest_point_a,i,data,x),2) + \n",
    "                       math.pow(get_distance(farthest_point_a,farthest_point_b,data,x),2) - \n",
    "                       math.pow(get_distance(i,farthest_point_b,data,x),2))\n",
    "                       /2/get_distance(farthest_point_a, farthest_point_b,data,x))\n",
    "      \n",
    "    elif i == farthest_point_a:\n",
    "      r.append(0)\n",
    "    elif i == farthest_point_b:\n",
    "      r.append(get_distance(farthest_point_a,farthest_point_b,data,x))\n",
    "  x.append(r)  \n",
    "  return fastmap(x, count+1, k, data)\n",
    "x = (fastmap([],0,2,data))\n"
   ]
  },
  {
   "cell_type": "code",
   "execution_count": 0,
   "metadata": {
    "colab": {},
    "colab_type": "code",
    "id": "muSpJWrzpZrr"
   },
   "outputs": [],
   "source": [
    "x = pd.DataFrame(x).transpose()"
   ]
  },
  {
   "cell_type": "code",
   "execution_count": 0,
   "metadata": {
    "colab": {},
    "colab_type": "code",
    "id": "LyjHKwOFhd--"
   },
   "outputs": [],
   "source": [
    "labels = pd.read_csv(default_path + 'fastmap-wordlist.txt', header=None, sep='\\t')\n",
    "x[2] = labels[0]"
   ]
  },
  {
   "cell_type": "code",
   "execution_count": 145,
   "metadata": {
    "colab": {
     "base_uri": "https://localhost:8080/",
     "height": 359
    },
    "colab_type": "code",
    "executionInfo": {
     "elapsed": 352,
     "status": "ok",
     "timestamp": 1583903473851,
     "user": {
      "displayName": "shagun gupta",
      "photoUrl": "https://lh3.googleusercontent.com/a-/AOh14Gi00i7-GRr42uUUPObpB_JPCTxu9SSDZYJeG5g5=s64",
      "userId": "18231311259389961451"
     },
     "user_tz": 420
    },
    "id": "AeMtBRNdhlZ9",
    "outputId": "689bac64-9cdd-42be-f7a4-beb229030fa6"
   },
   "outputs": [
    {
     "data": {
      "text/html": [
       "<div>\n",
       "<style scoped>\n",
       "    .dataframe tbody tr th:only-of-type {\n",
       "        vertical-align: middle;\n",
       "    }\n",
       "\n",
       "    .dataframe tbody tr th {\n",
       "        vertical-align: top;\n",
       "    }\n",
       "\n",
       "    .dataframe thead th {\n",
       "        text-align: right;\n",
       "    }\n",
       "</style>\n",
       "<table border=\"1\" class=\"dataframe\">\n",
       "  <thead>\n",
       "    <tr style=\"text-align: right;\">\n",
       "      <th></th>\n",
       "      <th>0</th>\n",
       "      <th>1</th>\n",
       "      <th>2</th>\n",
       "    </tr>\n",
       "  </thead>\n",
       "  <tbody>\n",
       "    <tr>\n",
       "      <th>0</th>\n",
       "      <td>3.875000</td>\n",
       "      <td>6.0625</td>\n",
       "      <td>acting</td>\n",
       "    </tr>\n",
       "    <tr>\n",
       "      <th>1</th>\n",
       "      <td>3.000000</td>\n",
       "      <td>7.7500</td>\n",
       "      <td>activist</td>\n",
       "    </tr>\n",
       "    <tr>\n",
       "      <th>2</th>\n",
       "      <td>0.000000</td>\n",
       "      <td>4.0000</td>\n",
       "      <td>compute</td>\n",
       "    </tr>\n",
       "    <tr>\n",
       "      <th>3</th>\n",
       "      <td>1.041667</td>\n",
       "      <td>1.1875</td>\n",
       "      <td>coward</td>\n",
       "    </tr>\n",
       "    <tr>\n",
       "      <th>4</th>\n",
       "      <td>2.458333</td>\n",
       "      <td>0.0000</td>\n",
       "      <td>forward</td>\n",
       "    </tr>\n",
       "    <tr>\n",
       "      <th>5</th>\n",
       "      <td>9.500000</td>\n",
       "      <td>5.1875</td>\n",
       "      <td>interaction</td>\n",
       "    </tr>\n",
       "    <tr>\n",
       "      <th>6</th>\n",
       "      <td>2.458333</td>\n",
       "      <td>8.0000</td>\n",
       "      <td>activity</td>\n",
       "    </tr>\n",
       "    <tr>\n",
       "      <th>7</th>\n",
       "      <td>1.500000</td>\n",
       "      <td>1.5625</td>\n",
       "      <td>odor</td>\n",
       "    </tr>\n",
       "    <tr>\n",
       "      <th>8</th>\n",
       "      <td>2.458333</td>\n",
       "      <td>1.0000</td>\n",
       "      <td>order</td>\n",
       "    </tr>\n",
       "    <tr>\n",
       "      <th>9</th>\n",
       "      <td>12.000000</td>\n",
       "      <td>4.0000</td>\n",
       "      <td>international</td>\n",
       "    </tr>\n",
       "  </tbody>\n",
       "</table>\n",
       "</div>"
      ],
      "text/plain": [
       "           0       1              2\n",
       "0   3.875000  6.0625         acting\n",
       "1   3.000000  7.7500       activist\n",
       "2   0.000000  4.0000        compute\n",
       "3   1.041667  1.1875         coward\n",
       "4   2.458333  0.0000        forward\n",
       "5   9.500000  5.1875    interaction\n",
       "6   2.458333  8.0000       activity\n",
       "7   1.500000  1.5625           odor\n",
       "8   2.458333  1.0000          order\n",
       "9  12.000000  4.0000  international"
      ]
     },
     "execution_count": 145,
     "metadata": {
      "tags": []
     },
     "output_type": "execute_result"
    }
   ],
   "source": [
    "x"
   ]
  },
  {
   "cell_type": "code",
   "execution_count": 140,
   "metadata": {
    "colab": {
     "base_uri": "https://localhost:8080/",
     "height": 320
    },
    "colab_type": "code",
    "executionInfo": {
     "elapsed": 576,
     "status": "ok",
     "timestamp": 1583903383091,
     "user": {
      "displayName": "shagun gupta",
      "photoUrl": "https://lh3.googleusercontent.com/a-/AOh14Gi00i7-GRr42uUUPObpB_JPCTxu9SSDZYJeG5g5=s64",
      "userId": "18231311259389961451"
     },
     "user_tz": 420
    },
    "id": "_LQ3O-I_hbTk",
    "outputId": "d3383a8f-4331-4c41-f0f7-6fd078c6d7d1"
   },
   "outputs": [
    {
     "data": {
      "image/png": "[encoded data removed]",
      "text/plain": [
       "<Figure size 720x360 with 1 Axes>"
      ]
     },
     "metadata": {
      "tags": []
     },
     "output_type": "display_data"
    }
   ],
   "source": [
    "from matplotlib import pyplot as plt\n",
    "\n",
    "fig = plt.figure(figsize=(10,5))\n",
    "ax = fig.add_subplot(111)\n",
    "\n",
    "A = x[0]\n",
    "B = x[1]\n",
    "\n",
    "plt.scatter(A,B)\n",
    "for i in range(10):                                       # <--\n",
    "    ax.annotate('%s' % labels[0][i], xy=(x[0][i],x[1][i]), textcoords='data') # <--\n",
    "\n",
    "plt.grid()\n",
    "plt.show()"
   ]
  },
  {
   "cell_type": "code",
   "execution_count": 0,
   "metadata": {
    "colab": {},
    "colab_type": "code",
    "id": "WMn6_f6wlQM9"
   },
   "outputs": [],
   "source": [
    "from matplotlib import pyplot as plt\n",
    "\n",
    "fig = plt.figure(figsize=(30, 5))\n",
    "ax = fig.add_subplot(111)\n",
    "\n",
    "A = x[0]\n",
    "B = [1]*10\n",
    "print(x)\n",
    "plt.scatter(A,B)\n",
    "for i in range(10):                                       # <--\n",
    "    ax.annotate('%s' % labels[0][i], xy=(x[0][i],B[i]), textcoords='data') # <--\n",
    "\n",
    "plt.grid()\n",
    "plt.show()"
   ]
  },
  {
   "cell_type": "code",
   "execution_count": 104,
   "metadata": {
    "colab": {
     "base_uri": "https://localhost:8080/",
     "height": 357
    },
    "colab_type": "code",
    "executionInfo": {
     "elapsed": 965,
     "status": "ok",
     "timestamp": 1583900352905,
     "user": {
      "displayName": "shagun gupta",
      "photoUrl": "https://lh3.googleusercontent.com/a-/AOh14Gi00i7-GRr42uUUPObpB_JPCTxu9SSDZYJeG5g5=s64",
      "userId": "18231311259389961451"
     },
     "user_tz": 420
    },
    "id": "PY6aWZr4i-yB",
    "outputId": "ae94c5bb-76f5-47ba-8ad0-84c953277ee1"
   },
   "outputs": [
    {
     "name": "stdout",
     "output_type": "stream",
     "text": [
      "[[3.875, 3.0, 0, 1.0416666666666667, 2.4583333333333335, 9.5, 2.4583333333333335, 1.5, 2.4583333333333335, 12], [47.72298177083334, 63.599934895833336, 32.0, 14.778320312499996, 0, 44.146620008680564, 64.0, 5.442464192708332, 2.0, 31.999999999999996]]\n"
     ]
    },
    {
     "data": {
      "image/png": "[encoded data removed]",
      "text/plain": [
       "<Figure size 1440x360 with 1 Axes>"
      ]
     },
     "metadata": {
      "tags": []
     },
     "output_type": "display_data"
    }
   ],
   "source": [
    "from matplotlib import pyplot as plt\n",
    "\n",
    "fig = plt.figure(figsize=(20, 5))\n",
    "ax = fig.add_subplot(111)\n",
    "\n",
    "A = x[0]\n",
    "B = [1]*10\n",
    "print(x)\n",
    "plt.scatter(A,B)\n",
    "for i in range(10):                                       # <--\n",
    "    ax.annotate('%s' % labels[0][i], xy=(x[0][i],B[i]), textcoords='data') # <--\n",
    "\n",
    "plt.grid()\n",
    "plt.show()"
   ]
  }
 ],
 "metadata": {
  "colab": {
   "authorship_tag": "ABX9TyM2l1DCn0b7knsc6elk0m/o",
   "collapsed_sections": [],
   "name": "shagun.ipynb",
   "provenance": []
  },
  "kernelspec": {
   "display_name": "Python 3",
   "language": "python",
   "name": "python3"
  },
  "language_info": {
   "codemirror_mode": {
    "name": "ipython",
    "version": 3
   },
   "file_extension": ".py",
   "mimetype": "text/x-python",
   "name": "python",
   "nbconvert_exporter": "python",
   "pygments_lexer": "ipython3",
   "version": "3.7.3"
  }
 },
 "nbformat": 4,
 "nbformat_minor": 1
}
